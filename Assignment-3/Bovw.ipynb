{
  "nbformat": 4,
  "nbformat_minor": 0,
  "metadata": {
    "colab": {
      "name": "Bovw.ipynb",
      "version": "0.3.2",
      "provenance": [],
      "collapsed_sections": []
    },
    "kernelspec": {
      "name": "python3",
      "display_name": "Python 3"
    },
    "accelerator": "GPU"
  },
  "cells": [
    {
      "metadata": {
        "id": "EH1S4poVXRP9",
        "colab_type": "code",
        "colab": {
          "base_uri": "https://localhost:8080/",
          "height": 130
        },
        "outputId": "32137dbe-119d-45a6-e792-ea92da34cf05"
      },
      "cell_type": "code",
      "source": [
        "from google.colab import drive\n",
        "drive.mount('/content/gdrive')"
      ],
      "execution_count": 1,
      "outputs": [
        {
          "output_type": "stream",
          "text": [
            "Go to this URL in a browser: https://accounts.google.com/o/oauth2/auth?client_id=947318989803-6bn6qk8qdgf4n4g3pfee6491hc0brc4i.apps.googleusercontent.com&redirect_uri=urn%3Aietf%3Awg%3Aoauth%3A2.0%3Aoob&scope=email%20https%3A%2F%2Fwww.googleapis.com%2Fauth%2Fdocs.test%20https%3A%2F%2Fwww.googleapis.com%2Fauth%2Fdrive%20https%3A%2F%2Fwww.googleapis.com%2Fauth%2Fdrive.photos.readonly%20https%3A%2F%2Fwww.googleapis.com%2Fauth%2Fpeopleapi.readonly&response_type=code\n",
            "\n",
            "Enter your authorization code:\n",
            "··········\n",
            "Mounted at /content/gdrive\n"
          ],
          "name": "stdout"
        }
      ]
    },
    {
      "metadata": {
        "id": "NF_QMrHlXXiQ",
        "colab_type": "code",
        "colab": {}
      },
      "cell_type": "code",
      "source": [
        "import numpy as np\n",
        "import cv2\n",
        "from skimage.feature import hog, local_binary_pattern\n",
        "from sklearn.cluster import KMeans\n",
        "from sklearn.svm import SVC\n",
        "import pickle\n",
        "import os\n",
        "os.chdir(\"/content/gdrive/My Drive/\")"
      ],
      "execution_count": 0,
      "outputs": []
    },
    {
      "metadata": {
        "id": "Ha6sdED1XXhS",
        "colab_type": "code",
        "colab": {}
      },
      "cell_type": "code",
      "source": [
        "def ReadData():\n",
        "    data = []\n",
        "    label = []\n",
        "    for i in range(1, 6):\n",
        "        with open(\"Colab Notebooks/Data/data_batch_\" + str(i), 'rb') as fo:\n",
        "            dict = pickle.load(fo, encoding='bytes')\n",
        "            data.append(dict[b'data'])\n",
        "            label.append(dict[b'labels'])\n",
        "\n",
        "    for i in range(1, 5):\n",
        "        data[0] = np.concatenate((data[0], data[i]), axis = 0)\n",
        "        label[0] = np.concatenate((label[0], label[i]), axis = 0)\n",
        "\n",
        "    test = []\n",
        "    test_label = []\n",
        "    with open(\"Colab Notebooks/Data/test_batch\", 'rb') as fo:\n",
        "        dict = pickle.load(fo, encoding='bytes')\n",
        "        test.append(dict[b'data'])\n",
        "        test_label.append(dict[b'labels'])\n",
        "\n",
        "    data = np.asarray(data[0])\n",
        "    label = np.asarray(label[0])\n",
        "    test = np.asarray(test[0])\n",
        "    test_label = np.asarray(test_label[0])\n",
        "    return data, label, test, test_label "
      ],
      "execution_count": 0,
      "outputs": []
    },
    {
      "metadata": {
        "id": "vLqdAvDeXuTM",
        "colab_type": "code",
        "colab": {}
      },
      "cell_type": "code",
      "source": [
        "def HOG_features(x_train):\n",
        "    fds = []\n",
        "    for i in range(x_train.shape[0]):\n",
        "        Image = np.reshape(x_train[i], (32, 32, 3))\n",
        "        # cv2.imwrite(\"./Q4-output/original.png\", Image)\n",
        "        fd, _ = hog(Image, orientations=8, pixels_per_cell=(4, 4), cells_per_block=(1, 1), visualize=True, multichannel=True)\n",
        "        # cv2.imwrite(\"./Q4-output/hog1.png\", hog_image)\n",
        "        fds.append(np.reshape(fd, (1, fd.shape[0])))\n",
        "        fds.append(fd)\n",
        "        # fig, (ax1, ax2) = plt.subplots(1, 2, figsize=(8, 4), sharex=True, sharey=True)\n",
        "        # ax1.axis('off')\n",
        "        # ax1.imshow(Image, cmap=plt.cm.gray)\n",
        "        # ax1.set_title('Input image')\n",
        "    for i in range(1, len(fds)):\n",
        "        fds[0] = np.concatenate((fds[0], fds[i]))\n",
        "    fds[0] = np.reshape(fds[0], (fds[0].shape[0], 1))\n",
        "    print(\"Fds.shape\", fds[0].shape)\n",
        "    return fds[0]\n",
        "\n",
        "def LBP_features(x_train, num_points = 24, radius = 8):\n",
        "    fds = []\n",
        "    for i in range(x_train.shape[0]):\n",
        "        Image = np.reshape(x_train[i], (32, 32, 3))\n",
        "        Image = cv2.cvtColor(Image, cv2.COLOR_BGR2GRAY)\n",
        "        lbp = local_binary_pattern(Image, num_points, radius, method=\"uniform\")\n",
        "        # cv2.imwrite(\"./Q4-output/lbp1.png\", lbp)\n",
        "        hist, _ = np.histogram(lbp.ravel(), bins=np.arange(0, num_points + 3), range=(0, num_points + 2))\n",
        "        hist = hist.astype(dtype=np.float)\n",
        "        hist /= np.sum(hist)\n",
        "        # fds.append(np.reshape(hist, (1, hist.shape[0])))\n",
        "        fds.append(hist)\n",
        "    for i in range(1, len(fds)):\n",
        "        fds[0] = np.concatenate((fds[0], fds[i]))\n",
        "    fds[0] = np.reshape(fds[0], (fds[0].shape[0], 1))\n",
        "    print(\"Fds.shape\", fds[0].shape)\n",
        "    return fds[0]\n",
        "\n",
        "def getHistorgram(kmeans, x_data, num_points = 24, radius = 8, hog_flag=True):\n",
        "    features = []\n",
        "    hist_size = len(kmeans.cluster_centers_)\n",
        "    print(\"Clusters:\", hist_size)\n",
        "    for i in range(x_data.shape[0]):\n",
        "        Image = np.reshape(x_data[i], (32, 32, 3))\n",
        "        histogram = np.zeros((hist_size, ), dtype=np.int)\n",
        "        if hog_flag:\n",
        "            fd, _ = hog(Image, orientations=9, pixels_per_cell=(4, 4), cells_per_block=(1, 1), visualize=True, multichannel=True)\n",
        "            print(fd.shape)\n",
        "            fd = np.reshape(fd, (fd.shape[0], 1))\n",
        "            print(kmeans.predict(fd))\n",
        "            histogram[kmeans.predict(fd)] += 1\n",
        "        else:\n",
        "            Image = cv2.cvtColor(Image, cv2.COLOR_BGR2GRAY)\n",
        "            lbp = local_binary_pattern(Image, num_points, radius, method=\"uniform\")  # cv2.imwrite(\"./Q4-output/lbp1.png\", lbp)\n",
        "            hist, _ = np.histogram(lbp.ravel(), bins=np.arange(0, num_points + 3), range=(0, num_points + 2))\n",
        "            hist = hist.astype(dtype=np.float)\n",
        "            hist /= np.sum(hist)\n",
        "            hist = np.reshape(hist, (hist.shape[0], 1))\n",
        "            histogram[kmeans.predict(hist)] += 1\n",
        "        features.append(histogram)\n",
        "    features = np.asarray(features)\n",
        "    return features"
      ],
      "execution_count": 0,
      "outputs": []
    },
    {
      "metadata": {
        "id": "dueFIWpdchCG",
        "colab_type": "code",
        "colab": {
          "base_uri": "https://localhost:8080/",
          "height": 91
        },
        "outputId": "3839eeee-a62d-43c9-8569-38ee00dc48c7"
      },
      "cell_type": "code",
      "source": [
        "X_Train, Y_Train, X_Test, Y_Test = ReadData()\n",
        "X_Train = X_Train[:10000]\n",
        "Y_Train = Y_Train[:10000]\n",
        "print(X_Train.shape)\n",
        "print(X_Test.shape)\n",
        "\n",
        "# fd_list = HOG_features(X_Train)\n",
        "fd_list = LBP_features(X_Train)\n",
        "# hog_flag = True\n",
        "hog_flag = False\n",
        "print(\"------------------Features Collected-----------------\")"
      ],
      "execution_count": 6,
      "outputs": [
        {
          "output_type": "stream",
          "text": [
            "(10000, 3072)\n",
            "(10000, 3072)\n",
            "Fds.shape (260000, 1)\n",
            "------------------Features Collected-----------------\n"
          ],
          "name": "stdout"
        }
      ]
    },
    {
      "metadata": {
        "id": "wA6rF0avXyTN",
        "colab_type": "code",
        "colab": {
          "base_uri": "https://localhost:8080/",
          "height": 36
        },
        "outputId": "2e693510-5212-4ec8-f1a6-95e4a2e4e379"
      },
      "cell_type": "code",
      "source": [
        "kmeans = KMeans(n_clusters = 533)\n",
        "kmeans.fit(fd_list)\n",
        "# pickle.dump(kmeans, open(\"Colab Notebooks/Data/kmeans.sav\", 'wb'))\n",
        "print(\"------------------K-Mean Clutering Done--------------\")"
      ],
      "execution_count": 9,
      "outputs": [
        {
          "output_type": "stream",
          "text": [
            "------------------K-Mean Clutering Done--------------\n"
          ],
          "name": "stdout"
        }
      ]
    },
    {
      "metadata": {
        "id": "wVmfC4Zlb5EE",
        "colab_type": "code",
        "colab": {
          "base_uri": "https://localhost:8080/",
          "height": 110
        },
        "outputId": "5c7cb4f6-9a7e-46b5-c4e6-b29dc98192a9"
      },
      "cell_type": "code",
      "source": [
        "# kmeans = pickle.load(open(\"Colab Notebooks/Data/kmeans.sav\", 'rb'))\n",
        "nx_train = getHistorgram(kmeans, X_Train, hog_flag=hog_flag)\n",
        "print(\"nx_train.shape\", nx_train.shape)\n",
        "nx_test = getHistorgram(kmeans, X_Test, hog_flag=hog_flag)\n",
        "print(\"nx_test.shape\", nx_test.shape)\n",
        "print(\"------------------Histogram Features-----------------\")"
      ],
      "execution_count": 12,
      "outputs": [
        {
          "output_type": "stream",
          "text": [
            "Clusters: 533\n",
            "nx_train.shape (10000, 533)\n",
            "Clusters: 533\n",
            "nx_test.shape (10000, 533)\n",
            "------------------Histogram Features-----------------\n"
          ],
          "name": "stdout"
        }
      ]
    },
    {
      "metadata": {
        "id": "Hq_n9_mGdNjk",
        "colab_type": "code",
        "colab": {
          "base_uri": "https://localhost:8080/",
          "height": 110
        },
        "outputId": "3ed22fbc-bbec-4fc4-da24-e5b800bbec52"
      },
      "cell_type": "code",
      "source": [
        "print(\"------------------Training SVM-----------------------\")\n",
        "clf = SVC(gamma='scale', decision_function_shape='ovo')\n",
        "clf.fit(nx_train, Y_Train)"
      ],
      "execution_count": 13,
      "outputs": [
        {
          "output_type": "stream",
          "text": [
            "------------------Training SVM-----------------------\n"
          ],
          "name": "stdout"
        },
        {
          "output_type": "execute_result",
          "data": {
            "text/plain": [
              "SVC(C=1.0, cache_size=200, class_weight=None, coef0=0.0,\n",
              "  decision_function_shape='ovo', degree=3, gamma='scale', kernel='rbf',\n",
              "  max_iter=-1, probability=False, random_state=None, shrinking=True,\n",
              "  tol=0.001, verbose=False)"
            ]
          },
          "metadata": {
            "tags": []
          },
          "execution_count": 13
        }
      ]
    },
    {
      "metadata": {
        "id": "McKCDQRrdROa",
        "colab_type": "code",
        "colab": {
          "base_uri": "https://localhost:8080/",
          "height": 54
        },
        "outputId": "e39c78f2-9c04-44bc-c4d5-57c6f9cd3507"
      },
      "cell_type": "code",
      "source": [
        "print(\"------------------Predicting Score-------------------\")\n",
        "Accuracy = clf.score(nx_test, Y_Test)\n",
        "print(\"Acc\", Accuracy*100)"
      ],
      "execution_count": 14,
      "outputs": [
        {
          "output_type": "stream",
          "text": [
            "------------------Predicting Score-------------------\n",
            "Acc 15.15\n"
          ],
          "name": "stdout"
        }
      ]
    },
    {
      "metadata": {
        "id": "fhBWTGOHdb6R",
        "colab_type": "code",
        "colab": {}
      },
      "cell_type": "code",
      "source": [
        ""
      ],
      "execution_count": 0,
      "outputs": []
    }
  ]
}